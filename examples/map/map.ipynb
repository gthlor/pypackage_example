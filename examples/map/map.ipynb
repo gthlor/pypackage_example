{
 "cells": [
  {
   "cell_type": "markdown",
   "id": "d6f110cc",
   "metadata": {},
   "source": [
    "## Create interactive maps"
   ]
  },
  {
   "cell_type": "code",
   "execution_count": 6,
   "id": "56553b92",
   "metadata": {},
   "outputs": [],
   "source": [
    "from pypackage_example import common"
   ]
  },
  {
   "cell_type": "code",
   "execution_count": 7,
   "id": "4d7f20c9",
   "metadata": {},
   "outputs": [
    {
     "name": "stdout",
     "output_type": "stream",
     "text": [
      "Hello World!\n"
     ]
    }
   ],
   "source": [
    "common.hello_world()"
   ]
  }
 ],
 "metadata": {
  "kernelspec": {
   "display_name": "geo",
   "language": "python",
   "name": "python3"
  },
  "language_info": {
   "codemirror_mode": {
    "name": "ipython",
    "version": 3
   },
   "file_extension": ".py",
   "mimetype": "text/x-python",
   "name": "python",
   "nbconvert_exporter": "python",
   "pygments_lexer": "ipython3",
   "version": "3.12.11"
  }
 },
 "nbformat": 4,
 "nbformat_minor": 5
}
