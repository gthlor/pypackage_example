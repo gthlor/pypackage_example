{
 "cells": [
  {
   "cell_type": "code",
   "execution_count": null,
   "id": "30eecab8",
   "metadata": {},
   "outputs": [],
   "source": [
    "import pypackage_example.foliumap as fol\n",
    "\n",
    "m = fol.FoliumMap(center=(45.5236, -122.6750), zoom=4)\n",
    "m"
   ]
  }
 ],
 "metadata": {
  "kernelspec": {
   "display_name": "geo",
   "language": "python",
   "name": "python3"
  },
  "language_info": {
   "codemirror_mode": {
    "name": "ipython",
    "version": 3
   },
   "file_extension": ".py",
   "mimetype": "text/x-python",
   "name": "python",
   "nbconvert_exporter": "python",
   "pygments_lexer": "ipython3",
   "version": "3.12.11"
  }
 },
 "nbformat": 4,
 "nbformat_minor": 5
}
