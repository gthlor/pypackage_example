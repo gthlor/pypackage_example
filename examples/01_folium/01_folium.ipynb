{
 "cells": [
  {
   "cell_type": "code",
   "execution_count": null,
   "id": "30eecab8",
   "metadata": {},
   "outputs": [],
   "source": [
    "import pypackage_example "
   ]
  },
  {
   "cell_type": "code",
   "execution_count": null,
   "id": "b632002d",
   "metadata": {},
   "outputs": [],
   "source": [
    "m = pypackage_example.LeafletMap()\n",
    "m.add_basemap2(basemap=\"Esri.WorldImagery\")\n",
    "m"
   ]
  },
  {
   "cell_type": "code",
   "execution_count": null,
   "id": "45d57df8",
   "metadata": {},
   "outputs": [],
   "source": [
    "import ipyleaflet"
   ]
  },
  {
   "cell_type": "code",
   "execution_count": null,
   "id": "fd8a06ae",
   "metadata": {},
   "outputs": [],
   "source": [
    "basemap = \"OpenStreetMap.Mapnik\"\n",
    "eval(f\"ipyleaflet.basemaps.{basemap}\").build_url()"
   ]
  }
 ],
 "metadata": {
  "kernelspec": {
   "display_name": "geo",
   "language": "python",
   "name": "python3"
  },
  "language_info": {
   "codemirror_mode": {
    "name": "ipython",
    "version": 3
   },
   "file_extension": ".py",
   "mimetype": "text/x-python",
   "name": "python",
   "nbconvert_exporter": "python",
   "pygments_lexer": "ipython3",
   "version": "3.12.11"
  }
 },
 "nbformat": 4,
 "nbformat_minor": 5
}
