{
 "cells": [
  {
   "cell_type": "code",
   "execution_count": null,
   "id": "0",
   "metadata": {},
   "outputs": [],
   "source": [
    "import pypackage_example\n",
    "import ipyleaflet\n",
    "import geopandas as gpd"
   ]
  },
  {
   "cell_type": "code",
   "execution_count": null,
   "id": "1",
   "metadata": {},
   "outputs": [],
   "source": [
    "m = pypackage_example.LeafletMap()\n",
    "m.add_basemap2(basemap=\"Esri.WorldImagery\")\n",
    "m"
   ]
  },
  {
   "cell_type": "code",
   "execution_count": null,
   "id": "2",
   "metadata": {},
   "outputs": [],
   "source": [
    "# basemap = \"OpenStreetMap.Mapnik\"\n",
    "# eval(f\"ipyleaflet.basemaps.{basemap}\").build_url()"
   ]
  },
  {
   "cell_type": "code",
   "execution_count": null,
   "id": "3",
   "metadata": {},
   "outputs": [],
   "source": [
    "url = \"https://github.com/opengeos/datasets/releases/download/us/us_southeast.geojson\"\n",
    "url = \"https://github.com/opengeos/datasets/releases/download/us/us_southeast.gpkg\"\n",
    "# url = 'https://github.com/opengeos/datasets/releases/download/us/us_regions.gpkg'\n",
    "# data = {\n",
    "#   \"type\": \"FeatureCollection\",\n",
    "#   \"features\": [\n",
    "#     {\n",
    "#       \"type\": \"Feature\",\n",
    "#       \"properties\": {},\n",
    "#       \"geometry\": {\n",
    "#         \"coordinates\": [\n",
    "#           12.440926583664009,\n",
    "#           41.923674241223694\n",
    "#         ],\n",
    "#         \"type\": \"Point\"\n",
    "#       }\n",
    "#     }\n",
    "#   ]\n",
    "# }\n",
    "url = r\"C:\\Users\\loren\\Downloads\\us_counties\\us_counties.shp\"\n",
    "# url = r\"C:\\Users\\loren\\Desktop\\xf_paper\\area_bianca_background.gpkg\"\n",
    "url = \"https://github.com/opengeos/datasets/releases/download/us/us_southeast.zip\""
   ]
  },
  {
   "cell_type": "code",
   "execution_count": null,
   "id": "4",
   "metadata": {},
   "outputs": [],
   "source": [
    "gdf = gpd.read_file(url)\n",
    "gdf.explore()"
   ]
  },
  {
   "cell_type": "code",
   "execution_count": null,
   "id": "5",
   "metadata": {},
   "outputs": [],
   "source": [
    "m = pypackage_example.LeafletMap()\n",
    "m.add_vector(\n",
    "    url,\n",
    "    name=\"My Points\",\n",
    "    zoom_to_layer=True,\n",
    "    style={\"color\": \"green\", \"fillOpacity\": 0.6},\n",
    ")\n",
    "m.add_layer_control()\n",
    "m"
   ]
  }
 ],
 "metadata": {
  "kernelspec": {
   "display_name": "geo",
   "language": "python",
   "name": "python3"
  },
  "language_info": {
   "codemirror_mode": {
    "name": "ipython",
    "version": 3
   },
   "file_extension": ".py",
   "mimetype": "text/x-python",
   "name": "python",
   "nbconvert_exporter": "python",
   "pygments_lexer": "ipython3",
   "version": "3.12.11"
  }
 },
 "nbformat": 4,
 "nbformat_minor": 5
}
