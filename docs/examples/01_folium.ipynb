{
 "cells": [
  {
   "cell_type": "code",
   "execution_count": 1,
   "id": "30eecab8",
   "metadata": {},
   "outputs": [],
   "source": [
    "import pypackage_example \n"
   ]
  },
  {
   "cell_type": "code",
   "execution_count": 2,
   "id": "b632002d",
   "metadata": {},
   "outputs": [
    {
     "data": {
      "application/vnd.jupyter.widget-view+json": {
       "model_id": "b6aaeb3a741840579a9aa7871181b1ad",
       "version_major": 2,
       "version_minor": 0
      },
      "text/plain": [
       "LeafletMap(center=[20, 0], controls=(ZoomControl(options=['position', 'zoom_in_text', 'zoom_in_title', 'zoom_o…"
      ]
     },
     "execution_count": 2,
     "metadata": {},
     "output_type": "execute_result"
    }
   ],
   "source": [
    "m = pypackage_example.LeafletMap()\n",
    "m.add_basemap2(basemap=\"Esri.WorldImagery\")\n",
    "m"
   ]
  },
  {
   "cell_type": "code",
   "execution_count": 3,
   "id": "45d57df8",
   "metadata": {},
   "outputs": [],
   "source": [
    "import ipyleaflet"
   ]
  },
  {
   "cell_type": "code",
   "execution_count": 5,
   "id": "fd8a06ae",
   "metadata": {},
   "outputs": [
    {
     "data": {
      "text/plain": [
       "'https://tile.openstreetmap.org/{z}/{x}/{y}.png'"
      ]
     },
     "execution_count": 5,
     "metadata": {},
     "output_type": "execute_result"
    }
   ],
   "source": [
    "basemap = \"OpenStreetMap.Mapnik\"\n",
    "eval(f\"ipyleaflet.basemaps.{basemap}\").build_url()\n"
   ]
  }
 ],
 "metadata": {
  "kernelspec": {
   "display_name": "geo",
   "language": "python",
   "name": "python3"
  },
  "language_info": {
   "codemirror_mode": {
    "name": "ipython",
    "version": 3
   },
   "file_extension": ".py",
   "mimetype": "text/x-python",
   "name": "python",
   "nbconvert_exporter": "python",
   "pygments_lexer": "ipython3",
   "version": "3.12.11"
  }
 },
 "nbformat": 4,
 "nbformat_minor": 5
}
